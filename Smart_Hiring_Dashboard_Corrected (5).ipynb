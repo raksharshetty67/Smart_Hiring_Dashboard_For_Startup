{
 "cells": [
  {
   "cell_type": "markdown",
   "id": "bb8506d3-8f5a-465c-8cb5-882622315f73",
   "metadata": {},
   "source": [
    "----\n",
    "\n",
    "## **Smart Hiring Dashboard for Startups – Analyzing Job Application Funnel Efficiency**\n",
    "---\n",
    "### **1. Import Required Libraries**"
   ]
  },
  {
   "cell_type": "code",
   "execution_count": 59,
   "id": "33becbab-b684-4bb0-84e2-a36d159c44b9",
   "metadata": {},
   "outputs": [],
   "source": [
    "import pandas as pd\n",
    "import numpy as np\n",
    "from faker import Faker\n",
    "import random\n",
    "from datetime import datetime, timedelta\n",
    "import pandas as pd\n",
    "import seaborn as sns\n",
    "import matplotlib.pyplot as plt"
   ]
  },
  {
   "cell_type": "markdown",
   "id": "468a6f25-bbb4-46aa-98b6-c154bce427b5",
   "metadata": {},
   "source": [
    "### **2. Initialize Faker**"
   ]
  },
  {
   "cell_type": "code",
   "execution_count": 60,
   "id": "38769a5c-692e-432e-a373-2e7228cfeb76",
   "metadata": {},
   "outputs": [],
   "source": [
    "fake = Faker()"
   ]
  },
  {
   "cell_type": "markdown",
   "id": "3489df82-fdd6-464e-b8e0-dc6140f69cae",
   "metadata": {},
   "source": [
    "### **3. Set seed for reproducibility**"
   ]
  },
  {
   "cell_type": "code",
   "execution_count": 61,
   "id": "e77f0744-d872-490f-87db-3db6cd80d882",
   "metadata": {},
   "outputs": [],
   "source": [
    "np.random.seed(42)\n",
    "random.seed(42)"
   ]
  },
  {
   "cell_type": "markdown",
   "id": "30a911b6-b99f-4d92-9e90-ed005b43c691",
   "metadata": {},
   "source": [
    "----\n",
    "### **4. Define possible values**"
   ]
  },
  {
   "cell_type": "code",
   "execution_count": 62,
   "id": "4358dc6a-9ad8-4872-ac1b-f4ca07964221",
   "metadata": {},
   "outputs": [],
   "source": [
    "roles = ['Software Engineer', 'Data Scientist', 'Product Manager', 'HR Manager', 'Sales Executive', 'Marketing Specialist']\n",
    "departments = ['Tech', 'HR', 'Sales', 'Marketing', 'Product']\n",
    "sources = ['LinkedIn', 'Naukri', 'AngelList', 'Referral', 'Company Website']\n",
    "statuses = ['Hired', 'Rejected', 'Dropped']"
   ]
  },
  {
   "cell_type": "markdown",
   "id": "215160bb-dce0-4890-a363-b2e95861dc5d",
   "metadata": {},
   "source": [
    "---\n",
    "\n",
    "### **5. Generate dataset**"
   ]
  },
  {
   "cell_type": "code",
   "execution_count": 63,
   "id": "2d9e56c1-6802-4e9c-93a9-b9e00b3ccd46",
   "metadata": {},
   "outputs": [],
   "source": [
    "n_records = 10000\n",
    "data = {\n",
    "    'Candidate_ID': [f'C{str(i).zfill(5)}' for i in range(1, n_records + 1)],\n",
    "    'Role_Applied': [random.choice(roles) for _ in range(n_records)],\n",
    "    'Department': [random.choice(departments) for _ in range(n_records)],\n",
    "    'Source': [random.choice(sources) for _ in range(n_records)],\n",
    "    'Application_Date': [fake.date_between(start_date='-2y', end_date='today') for _ in range(n_records)],\n",
    "    'Screening_Date': [None] * n_records,\n",
    "    'Interview_Date': [None] * n_records,\n",
    "    'Offer_Date': [None] * n_records,\n",
    "    'Hire_Date': [None] * n_records,\n",
    "    'Final_Status': [random.choice(statuses) for _ in range(n_records)]\n",
    "}"
   ]
  },
  {
   "cell_type": "markdown",
   "id": "8c8f516f-88d1-4bf9-8bb1-37f002d669e7",
   "metadata": {},
   "source": [
    "---\n",
    "### **6. Create DataFrame**"
   ]
  },
  {
   "cell_type": "code",
   "execution_count": 64,
   "id": "e0082da7-6ba3-4d6f-b21b-5e07c9b62398",
   "metadata": {},
   "outputs": [],
   "source": [
    "df = pd.DataFrame(data)"
   ]
  },
  {
   "cell_type": "markdown",
   "id": "8ab28f20-c5bb-460e-84bf-4216e01ee11b",
   "metadata": {},
   "source": [
    "---\n",
    "### **7. Introduce duplicates (5% of records)**"
   ]
  },
  {
   "cell_type": "code",
   "execution_count": 65,
   "id": "2b330425-f55a-4a08-99ba-7669d2906242",
   "metadata": {},
   "outputs": [],
   "source": [
    "n_duplicates = int(n_records * 0.01)\n",
    "duplicate_indices = np.random.choice(df.index, size=n_duplicates, replace=False)\n",
    "for idx in duplicate_indices:\n",
    "    df.loc[n_records + idx] = df.loc[idx]\n",
    "df = df.reset_index(drop=True)"
   ]
  },
  {
   "cell_type": "markdown",
   "id": "8fc9b373-268c-47ad-a9e5-1864c70d03cf",
   "metadata": {},
   "source": [
    "----\n",
    "### **8. Introduce missing values (10% missing for dates)**"
   ]
  },
  {
   "cell_type": "code",
   "execution_count": 66,
   "id": "aa94b322-03d7-405e-9598-ac5f83a064c9",
   "metadata": {},
   "outputs": [],
   "source": [
    "for col in ['Screening_Date', 'Interview_Date', 'Offer_Date', 'Hire_Date']:\n",
    "    mask = np.random.choice(df.index, size=int(n_records * 0.01), replace=False)\n",
    "    df.loc[mask, col] = np.nan"
   ]
  },
  {
   "cell_type": "markdown",
   "id": "799b98cb-0f27-4615-8e52-e005ea52a4a7",
   "metadata": {},
   "source": [
    "----\n",
    "### **9. Fill dates with progression logic and introduce invalid dates**"
   ]
  },
  {
   "cell_type": "code",
   "execution_count": 67,
   "id": "e89f8251-7c1f-4042-ae5c-5621d96d3f32",
   "metadata": {},
   "outputs": [],
   "source": [
    "for i in range(len(df)):\n",
    "    app_date = df.loc[i, 'Application_Date']\n",
    "    if pd.notnull(app_date):\n",
    "        # Screening date: 1-10 days after application\n",
    "        if random.random() > 0.1:  # 90% chance of having a screening date\n",
    "            df.loc[i, 'Screening_Date'] = app_date + timedelta(days=random.randint(1, 10))\n",
    "        \n",
    "        # Interview date: 1-15 days after screening\n",
    "        if pd.notnull(df.loc[i, 'Screening_Date']) and random.random() > 0.2:\n",
    "            df.loc[i, 'Interview_Date'] = df.loc[i, 'Screening_Date'] + timedelta(days=random.randint(1, 15))\n",
    "        \n",
    "        # Offer date: 1-10 days after interview\n",
    "        if pd.notnull(df.loc[i, 'Interview_Date']) and random.random() > 0.3:\n",
    "            df.loc[i, 'Offer_Date'] = df.loc[i, 'Interview_Date'] + timedelta(days=random.randint(1, 10))\n",
    "        \n",
    "        # Hire date: 1-20 days after offer, only if hired\n",
    "        if pd.notnull(df.loc[i, 'Offer_Date']) and df.loc[i, 'Final_Status'] == 'Hired':\n",
    "            df.loc[i, 'Hire_Date'] = df.loc[i, 'Offer_Date'] + timedelta(days=random.randint(1, 20))"
   ]
  },
  {
   "cell_type": "markdown",
   "id": "daae715b-3baf-42dc-94ea-317b0cd9bb0a",
   "metadata": {},
   "source": [
    "### **10. Introduce invalid dates (5% of records)**"
   ]
  },
  {
   "cell_type": "code",
   "execution_count": 68,
   "id": "d075d6d2-7aa3-4892-9e02-4751ae7242f5",
   "metadata": {},
   "outputs": [],
   "source": [
    "invalid_date_indices = np.random.choice(df.index, size=int(n_records * 0.01), replace=False)\n",
    "for idx in invalid_date_indices:\n",
    "    col = random.choice(['Application_Date', 'Screening_Date', 'Interview_Date', 'Offer_Date', 'Hire_Date'])\n",
    "    if pd.notnull(df.loc[idx, col]):\n",
    "        df.loc[idx, col] = '9999-99-99'  # Invalid date"
   ]
  },
  {
   "cell_type": "markdown",
   "id": "2567dae0-b4db-4705-b05d-6ba9dd6fe2cb",
   "metadata": {},
   "source": [
    "--\n",
    "\n",
    "### **11. Save to CSV**"
   ]
  },
  {
   "cell_type": "code",
   "execution_count": 69,
   "id": "0877f166-f973-4095-8411-2a1728a19850",
   "metadata": {},
   "outputs": [
    {
     "name": "stdout",
     "output_type": "stream",
     "text": [
      "Dataset generated and saved as 'hiring_dataset.csv' with 1000 records, including duplicates, missing values, and invalid dates.\n"
     ]
    }
   ],
   "source": [
    "df.to_csv('hiring_dataset.csv', index=False)\n",
    "\n",
    "print(\"Dataset generated and saved as 'hiring_dataset.csv' with 1000 records, including duplicates, missing values, and invalid dates.\")"
   ]
  },
  {
   "cell_type": "markdown",
   "id": "61a85b10-accc-4db8-9118-a17fd268ddf8",
   "metadata": {},
   "source": [
    "--\n",
    "\n",
    "### **12. Load the dataset**"
   ]
  },
  {
   "cell_type": "code",
   "execution_count": 70,
   "id": "f1644f1a-de37-4f34-9469-64bce47fd07c",
   "metadata": {},
   "outputs": [],
   "source": [
    "df = pd.read_csv('hiring_dataset.csv')"
   ]
  },
  {
   "cell_type": "markdown",
   "id": "4359a884-f2cc-4fcb-ae37-9de74e491454",
   "metadata": {},
   "source": [
    "#### **Step 1: Remove duplicates based on Candidate_ID**"
   ]
  },
  {
   "cell_type": "code",
   "execution_count": 71,
   "id": "f97aeaf7-9bdd-4f10-be1a-67db28098403",
   "metadata": {},
   "outputs": [
    {
     "name": "stdout",
     "output_type": "stream",
     "text": [
      "Removed duplicates. Dataset size after deduplication: 10000\n"
     ]
    }
   ],
   "source": [
    "df = df.drop_duplicates(subset='Candidate_ID', keep='first')\n",
    "print(f\"Removed duplicates. Dataset size after deduplication: {len(df)}\")"
   ]
  },
  {
   "cell_type": "markdown",
   "id": "bbe707a2-d140-49cb-a861-c0c4cb28a386",
   "metadata": {},
   "source": [
    "#### **Step 2: Convert date columns to datetime, handling invalid dates**"
   ]
  },
  {
   "cell_type": "code",
   "execution_count": 72,
   "id": "323cdb6e-96a8-4a26-9443-663230dc34e7",
   "metadata": {},
   "outputs": [],
   "source": [
    "date_columns = ['Application_Date', 'Screening_Date', 'Interview_Date', 'Offer_Date', 'Hire_Date']\n",
    "for col in date_columns:\n",
    "    # Replace invalid dates (e.g., '9999-99-99') with NaT\n",
    "    df[col] = pd.to_datetime(df[col], errors='coerce')"
   ]
  },
  {
   "cell_type": "markdown",
   "id": "7bd54550-879a-4805-b65b-f54fade8c83d",
   "metadata": {},
   "source": [
    "#### **Step 3: Handle missing dates logically**\n",
    "- `Flag rows where Hire_Date is present but Offer_Date is missing`"
   ]
  },
  {
   "cell_type": "code",
   "execution_count": 73,
   "id": "5cc2ba51-e818-474c-9df1-b3480e7888da",
   "metadata": {},
   "outputs": [],
   "source": [
    "df['Missing_Offer_Flag'] = (df['Hire_Date'].notnull() & df['Offer_Date'].isnull())\n",
    "\n",
    "# Impute missing dates where possible\n",
    "for i, row in df.iterrows():\n",
    "    if row['Missing_Offer_Flag']:\n",
    "        # If Hire_Date exists but Offer_Date is missing, impute Offer_Date as 5 days before Hire_Date\n",
    "        df.loc[i, 'Offer_Date'] = row['Hire_Date'] - pd.Timedelta(days=5)\n",
    "    \n",
    "    # If Interview_Date is missing but Offer_Date exists, impute Interview_Date as 7 days before Offer_Date\n",
    "    if pd.notnull(row['Offer_Date']) and pd.isnull(row['Interview_Date']):\n",
    "        df.loc[i, 'Interview_Date'] = row['Offer_Date'] - pd.Timedelta(days=7)\n",
    "    \n",
    "    # If Screening_Date is missing but Interview_Date exists, impute Screening_Date as 7 days before Interview_Date\n",
    "    if pd.notnull(row['Interview_Date']) and pd.isnull(row['Screening_Date']):\n",
    "        df.loc[i, 'Screening_Date'] = row['Interview_Date'] - pd.Timedelta(days=7)"
   ]
  },
  {
   "cell_type": "markdown",
   "id": "5cbe7e26-3b08-43f2-ad0d-bf3729742d3b",
   "metadata": {},
   "source": [
    "#### **Step 4: Add calculated column**"
   ]
  },
  {
   "cell_type": "code",
   "execution_count": 74,
   "id": "b6bfabd4-088d-4b64-a79f-76cf4726fcb1",
   "metadata": {},
   "outputs": [],
   "source": [
    "df['Time_to_Hire'] = (df['Hire_Date'] - df['Application_Date']).dt.days\n",
    "# Replace NaN with -1 for non-hired candidates\n",
    "df['Time_to_Hire'] = df['Time_to_Hire'].fillna(-1).astype(int)"
   ]
  },
  {
   "cell_type": "markdown",
   "id": "9bab4268-a8ce-46f1-bbf4-81ffdbf92b25",
   "metadata": {},
   "source": [
    "#### **Step 5: Add calculated column**"
   ]
  },
  {
   "cell_type": "code",
   "execution_count": 75,
   "id": "12f5cf83-3270-4c6a-a69a-12e9d6db6d76",
   "metadata": {},
   "outputs": [],
   "source": [
    "def determine_stage_drop(row):\n",
    "    if row['Final_Status'] == 'Hired':\n",
    "        return 'None'  # No drop if hired\n",
    "    elif pd.notnull(row['Hire_Date']):\n",
    "        return 'None'  # Safety check for hired candidates\n",
    "    elif pd.notnull(row['Offer_Date']):\n",
    "        return 'After_Offer'\n",
    "    elif pd.notnull(row['Interview_Date']):\n",
    "        return 'After_Interview'\n",
    "    elif pd.notnull(row['Screening_Date']):\n",
    "        return 'After_Screening'\n",
    "    elif pd.notnull(row['Application_Date']):\n",
    "        return 'After_Application'\n",
    "    else:\n",
    "        return 'No_Application'\n",
    "\n",
    "df['Stage_Drop'] = df.apply(determine_stage_drop, axis=1)"
   ]
  },
  {
   "cell_type": "markdown",
   "id": "8a618853-d2d5-4ca6-a8ad-63f2e6de9c5c",
   "metadata": {},
   "source": [
    "#### **Step 6: Save the cleaned dataset**"
   ]
  },
  {
   "cell_type": "code",
   "execution_count": 76,
   "id": "d9c702f9-c609-4e5d-8674-9e893e138d1c",
   "metadata": {},
   "outputs": [
    {
     "name": "stdout",
     "output_type": "stream",
     "text": [
      "Cleaned dataset saved as 'cleaned_hiring_dataset.csv'\n",
      "\n",
      "Dataset Summary:\n",
      "Total records: 10000\n",
      "Missing Offer_Date flagged: 4\n",
      "Time_to_Hire stats (for hired candidates):\n",
      "count    3297.000000\n",
      "mean       14.483470\n",
      "std        16.425466\n",
      "min        -1.000000\n",
      "25%        -1.000000\n",
      "50%        11.000000\n",
      "75%        30.000000\n",
      "max        53.000000\n",
      "Name: Time_to_Hire, dtype: float64\n",
      "\n",
      "Stage_Drop distribution:\n",
      "Stage_Drop\n",
      "After_Offer          3388\n",
      "None                 3297\n",
      "After_Interview      1411\n",
      "After_Screening      1228\n",
      "After_Application     675\n",
      "No_Application          1\n",
      "Name: count, dtype: int64\n"
     ]
    }
   ],
   "source": [
    "print(\"Cleaned dataset saved as 'cleaned_hiring_dataset.csv'\")\n",
    "print(\"\\nDataset Summary:\")\n",
    "print(f\"Total records: {len(df)}\")\n",
    "print(f\"Missing Offer_Date flagged: {df['Missing_Offer_Flag'].sum()}\")\n",
    "print(f\"Time_to_Hire stats (for hired candidates):\")\n",
    "print(df[df['Final_Status'] == 'Hired']['Time_to_Hire'].describe())\n",
    "print(\"\\nStage_Drop distribution:\")\n",
    "print(df['Stage_Drop'].value_counts())"
   ]
  },
  {
   "cell_type": "markdown",
   "id": "b7aecb8c-99c5-47b1-8214-9ffe9617604a",
   "metadata": {},
   "source": [
    "### **13. Set Seaborn style**"
   ]
  },
  {
   "cell_type": "code",
   "execution_count": 77,
   "id": "288e0abc-97c6-482c-a090-8c381dd6af97",
   "metadata": {},
   "outputs": [],
   "source": [
    "sns.set(style=\"whitegrid\")"
   ]
  },
  {
   "cell_type": "markdown",
   "id": "bf0b7601-f6c3-411e-8e5d-6baea4277c16",
   "metadata": {},
   "source": [
    "-\n",
    "### **14. Load the cleaned dataset**"
   ]
  },
  {
   "cell_type": "code",
   "execution_count": 78,
   "id": "5d9c06f1-9b3a-4efc-a432-f02c054c53a1",
   "metadata": {},
   "outputs": [],
   "source": [
    "df = pd.read_csv('cleaned_hiring_dataset.csv')"
   ]
  },
  {
   "cell_type": "markdown",
   "id": "a0c54e71-781a-4ecd-b0e3-496815f3e313",
   "metadata": {},
   "source": [
    "---\n",
    "### **15. Convert date columns to datetime**"
   ]
  },
  {
   "cell_type": "code",
   "execution_count": 79,
   "id": "4a3557b6-519d-4ff7-9842-e19977830dfa",
   "metadata": {},
   "outputs": [],
   "source": [
    "date_columns = ['Application_Date', 'Screening_Date', 'Interview_Date', 'Offer_Date', 'Hire_Date']\n",
    "for col in date_columns:\n",
    "    df[col] = pd.to_datetime(df[col], errors='coerce')"
   ]
  },
  {
   "cell_type": "markdown",
   "id": "6b37b420-2250-4c0b-b88a-4714522e2a95",
   "metadata": {},
   "source": [
    "---\n",
    "\n",
    "### **16. Initialize markdown content for insights**"
   ]
  },
  {
   "cell_type": "code",
   "execution_count": 80,
   "id": "16136a11-9fb0-4996-9400-d3a5ba95dcc4",
   "metadata": {},
   "outputs": [],
   "source": [
    "insights = []"
   ]
  },
  {
   "cell_type": "markdown",
   "id": "7203ace4-0e1e-44d2-8c88-f970c77fc4ce",
   "metadata": {},
   "source": [
    "#### **a). Analyze drop-off stages**"
   ]
  },
  {
   "cell_type": "code",
   "execution_count": 81,
   "id": "bada50c3-90ce-4b92-b68f-8072311d7502",
   "metadata": {},
   "outputs": [
    {
     "data": {
      "image/png": "[encoded data removed]",
      "text/plain": [
       "<Figure size 600x400 with 1 Axes>"
      ]
     },
     "metadata": {},
     "output_type": "display_data"
    }
   ],
   "source": [
    "drop_off_counts = df['Stage_Drop'].value_counts()\n",
    "insights.append(\"## Drop-Off Stages\\n\")\n",
    "insights.append(f\"The most drop-offs occur at the following stages:\\n{drop_off_counts.to_string()}\\n\")\n",
    "plt.figure(figsize=(6, 4))\n",
    "sns.countplot(data=df, x='Stage_Drop', order=drop_off_counts.index)\n",
    "plt.title('Candidate Drop-Off by Stage')\n",
    "plt.xlabel('Stage')\n",
    "plt.ylabel('Number of Candidates')\n",
    "plt.xticks(rotation=45)\n",
    "plt.savefig('drop_off_stages.png')\n",
    "plt.show()\n",
    "plt.close()"
   ]
  },
  {
   "cell_type": "markdown",
   "id": "db9df1be-0c49-41ac-8eca-7617347e5edd",
   "metadata": {},
   "source": [
    "#### **b). Number of applicants by role, source, and department**\n",
    "#### **Applicants by Role**"
   ]
  },
  {
   "cell_type": "code",
   "execution_count": 82,
   "id": "a279377f-5f7f-44cb-9b30-f0716c02fb91",
   "metadata": {},
   "outputs": [
    {
     "data": {
      "image/png": "[encoded data removed]",
      "text/plain": [
       "<Figure size 600x400 with 1 Axes>"
      ]
     },
     "metadata": {},
     "output_type": "display_data"
    }
   ],
   "source": [
    "applicants_by_role = df['Role_Applied'].value_counts()\n",
    "insights.append(\"## Applicants by Role\\n\")\n",
    "insights.append(f\"{applicants_by_role.to_string()}\\n\")\n",
    "plt.figure(figsize=(6, 4))\n",
    "sns.countplot(data=df, x='Role_Applied')\n",
    "plt.title('Number of Applicants by Role')\n",
    "plt.xlabel('Role')\n",
    "plt.ylabel('Number of Applicants')\n",
    "plt.xticks(rotation=45)\n",
    "plt.savefig('applicants_by_role.png')\n",
    "plt.show()\n",
    "plt.close()"
   ]
  },
  {
   "cell_type": "markdown",
   "id": "5e9424f4-fe24-48d8-bc05-b3859a768fba",
   "metadata": {},
   "source": [
    "#### **Applicants by Source**"
   ]
  },
  {
   "cell_type": "code",
   "execution_count": 83,
   "id": "7028aeab-5df1-458e-a5c3-a1854df6fe69",
   "metadata": {},
   "outputs": [
    {
     "data": {
      "image/png": "[encoded data removed]",
      "text/plain": [
       "<Figure size 600x400 with 1 Axes>"
      ]
     },
     "metadata": {},
     "output_type": "display_data"
    }
   ],
   "source": [
    "applicants_by_source = df['Source'].value_counts()\n",
    "insights.append(\"## Applicants by Source\\n\")\n",
    "insights.append(f\"{applicants_by_source.to_string()}\\n\")\n",
    "plt.figure(figsize=(6, 4))\n",
    "sns.countplot(data=df, x='Source')\n",
    "plt.title('Number of Applicants by Source')\n",
    "plt.xlabel('Source')\n",
    "plt.ylabel('Number of Applicants')\n",
    "plt.xticks(rotation=45)\n",
    "plt.savefig('applicants_by_source.png')\n",
    "plt.show()\n",
    "plt.close()"
   ]
  },
  {
   "cell_type": "markdown",
   "id": "7b8c83d8-6494-4612-8c00-5353cf9f4367",
   "metadata": {},
   "source": [
    "#### **Applicants by Department**"
   ]
  },
  {
   "cell_type": "code",
   "execution_count": 84,
   "id": "e4457a46-3077-4adf-a693-c51b4ea4fa05",
   "metadata": {},
   "outputs": [
    {
     "data": {
      "image/png": "[encoded data removed]",
      "text/plain": [
       "<Figure size 600x400 with 1 Axes>"
      ]
     },
     "metadata": {},
     "output_type": "display_data"
    }
   ],
   "source": [
    "applicants_by_department = df['Department'].value_counts()\n",
    "insights.append(\"## Applicants by Department\\n\")\n",
    "insights.append(f\"{applicants_by_department.to_string()}\\n\")\n",
    "plt.figure(figsize=(6, 4))\n",
    "sns.countplot(data=df, x='Department')\n",
    "plt.title('Number of Applicants by Department')\n",
    "plt.xlabel('Department')\n",
    "plt.ylabel('Number of Applicants')\n",
    "plt.xticks(rotation=45)\n",
    "plt.savefig('applicants_by_department.png')\n",
    "plt.show()\n",
    "plt.close()"
   ]
  },
  {
   "cell_type": "markdown",
   "id": "15f60198-3412-4f1f-be5a-be9b7c87ee2e",
   "metadata": {},
   "source": [
    "#### **4. Drop-off heatmap by department and stage**"
   ]
  },
  {
   "cell_type": "code",
   "execution_count": 85,
   "id": "6b2d9c2f-1be1-49b3-b08a-a4cf39033306",
   "metadata": {},
   "outputs": [
    {
     "data": {
      "image/png": "[encoded data removed]",
      "text/plain": [
       "<Figure size 600x400 with 2 Axes>"
      ]
     },
     "metadata": {},
     "output_type": "display_data"
    }
   ],
   "source": [
    "heatmap_data = df.groupby(['Department', 'Stage_Drop']).size().unstack(fill_value=0)\n",
    "insights.append(\"## Drop-Off Heatmap by Department and Stage\\n\")\n",
    "insights.append(\"Heatmap shows the number of candidates dropping off at each stage by department.\\n\")\n",
    "plt.figure(figsize=(6, 4))\n",
    "sns.heatmap(heatmap_data, annot=True, fmt='d', cmap='YlGnBu')\n",
    "plt.title('Drop-Off Heatmap by Department and Stage')\n",
    "plt.xlabel('Stage')\n",
    "plt.ylabel('Department')\n",
    "plt.savefig('drop_off_heatmap.png')\n",
    "plt.show()\n",
    "plt.close()"
   ]
  },
  {
   "cell_type": "markdown",
   "id": "a8dca45f-a21f-40ea-ab3e-d14a373ffaaa",
   "metadata": {},
   "source": [
    "----\n",
    "### **17. Save insights to markdown file**"
   ]
  },
  {
   "cell_type": "code",
   "execution_count": 86,
   "id": "9c4f6983-95d3-4efc-a2a1-51de5f05ba4d",
   "metadata": {},
   "outputs": [
    {
     "name": "stdout",
     "output_type": "stream",
     "text": [
      "EDA completed. Insights saved to 'eda_insights.md' and plots saved as PNG files.\n"
     ]
    }
   ],
   "source": [
    "with open('eda_insights.md', 'w') as f:\n",
    "    f.write('\\n'.join(insights))\n",
    "\n",
    "print(\"EDA completed. Insights saved to 'eda_insights.md' and plots saved as PNG files.\")"
   ]
  },
  {
   "cell_type": "code",
   "execution_count": 87,
   "id": "42ea41ad-f88a-4bcd-aa3e-ac70f562c147",
   "metadata": {},
   "outputs": [],
   "source": [
    "import sqlite3\n",
    "from datetime import datetime"
   ]
  },
  {
   "cell_type": "markdown",
   "id": "222d4f70-2a57-4f2e-9948-d5175b3e444c",
   "metadata": {},
   "source": [
    "### **18. Load the cleaned dataset**"
   ]
  },
  {
   "cell_type": "code",
   "execution_count": 88,
   "id": "7ff76a2a-a7f4-4bd8-8c21-8278d71b7c5a",
   "metadata": {},
   "outputs": [],
   "source": [
    "df = pd.read_csv('cleaned_hiring_dataset.csv')"
   ]
  },
  {
   "cell_type": "markdown",
   "id": "7f7e1bc2-0927-46ef-980c-a191c64cc6b2",
   "metadata": {},
   "source": [
    "### **19. Convert date columns to string format for SQL compatibility**"
   ]
  },
  {
   "cell_type": "code",
   "execution_count": null,
   "id": "09261cfa-3283-4131-bab1-7b3118109ba2",
   "metadata": {},
   "outputs": [],
   "source": [
    "date_columns = ['Application_Date', 'Screening_Date', 'Interview_Date', 'Offer_Date', 'Hire_Date']\n",
    "for col in date_columns:\n",
    "    df[col] = pd.to_datetime(df[col], errors='coerce').dt.strftime('%Y-%m-%d')"
   ]
  },
  {
   "cell_type": "markdown",
   "id": "4f18fabb-bb0a-4cea-b035-1092dabd315d",
   "metadata": {},
   "source": [
    "----\n",
    "\n",
    "### **20. Connect to SQLite database**"
   ]
  },
  {
   "cell_type": "code",
   "execution_count": null,
   "id": "f06cbde0-45a5-41ac-acbc-b135a05de1e3",
   "metadata": {},
   "outputs": [],
   "source": [
    "conn = sqlite3.connect('hiring_database.db')\n",
    "cursor = conn.cursor()"
   ]
  },
  {
   "cell_type": "markdown",
   "id": "2c25a110-6b3c-4f00-94b8-4993146f2b28",
   "metadata": {},
   "source": [
    "----\n",
    "### **21. Create Database Schema**"
   ]
  },
  {
   "cell_type": "code",
   "execution_count": null,
   "id": "7dd79635-9629-456c-8645-e6a1170684ed",
   "metadata": {},
   "outputs": [],
   "source": [
    "cursor.executescript('''\n",
    "    DROP TABLE IF EXISTS candidates;\n",
    "    DROP TABLE IF EXISTS applications;\n",
    "    DROP TABLE IF EXISTS stages;\n",
    "\n",
    "    CREATE TABLE candidates (\n",
    "        candidate_id TEXT PRIMARY KEY,\n",
    "        role_applied TEXT,\n",
    "        department TEXT\n",
    "    );\n",
    "\n",
    "    CREATE TABLE applications (\n",
    "        application_id INTEGER PRIMARY KEY AUTOINCREMENT,\n",
    "        candidate_id TEXT,\n",
    "        source TEXT,\n",
    "        application_date DATE,\n",
    "        FOREIGN KEY (candidate_id) REFERENCES candidates(candidate_id)\n",
    "    );\n",
    "\n",
    "    CREATE TABLE stages (\n",
    "        stage_id INTEGER PRIMARY KEY AUTOINCREMENT,\n",
    "        candidate_id TEXT,\n",
    "        screening_date DATE,\n",
    "        interview_date DATE,\n",
    "        offer_date DATE,\n",
    "        hire_date DATE,\n",
    "        final_status TEXT,\n",
    "        missing_offer_flag BOOLEAN,\n",
    "        time_to_hire INTEGER,\n",
    "        stage_drop TEXT,\n",
    "        FOREIGN KEY (candidate_id) REFERENCES candidates(candidate_id)\n",
    "    );\n",
    "''')\n"
   ]
  },
  {
   "cell_type": "markdown",
   "id": "ba4f6b9d-4d8d-417c-bebd-c148170bfe4d",
   "metadata": {},
   "source": [
    "-\n",
    "\n",
    "### **22. Insert data into tables**"
   ]
  },
  {
   "cell_type": "markdown",
   "id": "2873ee80-8fa4-4724-b8a2-035408bcc01f",
   "metadata": {},
   "source": [
    "#### **Candidates table**"
   ]
  },
  {
   "cell_type": "code",
   "execution_count": null,
   "id": "c8d32d96-a2d6-4a15-8fe3-60c3acb132f1",
   "metadata": {},
   "outputs": [],
   "source": [
    "candidates_df = df[['Candidate_ID', 'Role_Applied', 'Department']].drop_duplicates()\n",
    "candidates_df.to_sql('candidates', conn, if_exists='append', index=False)"
   ]
  },
  {
   "cell_type": "markdown",
   "id": "b32fa55d-450c-4653-8a81-8028c7f8a86e",
   "metadata": {},
   "source": [
    "#### **Applications table**"
   ]
  },
  {
   "cell_type": "code",
   "execution_count": null,
   "id": "6dff6b9b-af9c-4c7e-ac6d-321abddc497f",
   "metadata": {},
   "outputs": [],
   "source": [
    "applications_df = df[['Candidate_ID', 'Source', 'Application_Date']]\n",
    "applications_df.to_sql('applications', conn, if_exists='append', index=False)"
   ]
  },
  {
   "cell_type": "markdown",
   "id": "875b480d-69d7-4416-a748-af3bb272dfef",
   "metadata": {},
   "source": [
    "#### **Stages table**"
   ]
  },
  {
   "cell_type": "code",
   "execution_count": null,
   "id": "336c5d8b-b054-45e4-be23-4fae1259edef",
   "metadata": {},
   "outputs": [],
   "source": [
    "stages_df = df[['Candidate_ID', 'Screening_Date', 'Interview_Date', 'Offer_Date', 'Hire_Date', \n",
    "                'Final_Status', 'Missing_Offer_Flag', 'Time_to_Hire', 'Stage_Drop']]\n",
    "stages_df.to_sql('stages', conn, if_exists='append', index=False)"
   ]
  },
  {
   "cell_type": "markdown",
   "id": "7b15e4de-c093-4419-8d15-625685a947e8",
   "metadata": {},
   "source": [
    "-\n",
    "\n",
    "### **23. SQL Queries for Aggregations**\n",
    "#### **Query 1: Drop-off counts and percentages**"
   ]
  },
  {
   "cell_type": "code",
   "execution_count": null,
   "id": "5033086d-f822-418e-9c46-8a5dc065fab4",
   "metadata": {},
   "outputs": [],
   "source": [
    "\n",
    "drop_off_query = '''\n",
    "WITH drop_off_counts AS (\n",
    "    SELECT stage_drop, COUNT(*) as drop_count\n",
    "    FROM stages\n",
    "    GROUP BY stage_drop\n",
    "),\n",
    "total_candidates AS (\n",
    "    SELECT COUNT(*) as total\n",
    "    FROM stages\n",
    ")\n",
    "SELECT \n",
    "    d.stage_drop,\n",
    "    d.drop_count,\n",
    "    ROUND((d.drop_count * 100.0 / t.total), 2) as percentage\n",
    "FROM drop_off_counts d\n",
    "CROSS JOIN total_candidates t\n",
    "ORDER BY d.drop_count DESC;\n",
    "'''\n",
    "drop_off_df = pd.read_sql_query(drop_off_query, conn)\n",
    "drop_off_df.to_csv('drop_off_summary.csv', index=False)"
   ]
  },
  {
   "cell_type": "markdown",
   "id": "e8e65974-4ea3-4190-931d-13f5d9c01120",
   "metadata": {},
   "source": [
    "#### **Query 2: Conversion rates between stages**"
   ]
  },
  {
   "cell_type": "code",
   "execution_count": null,
   "id": "213e3875-5f03-4784-a144-f0a57c3c989f",
   "metadata": {},
   "outputs": [],
   "source": [
    "conversion_query = '''\n",
    "WITH stage_counts AS (\n",
    "    SELECT \n",
    "        SUM(CASE WHEN application_date IS NOT NULL THEN 1 ELSE 0 END) as applied,\n",
    "        SUM(CASE WHEN screening_date IS NOT NULL THEN 1 ELSE 0 END) as screened,\n",
    "        SUM(CASE WHEN interview_date IS NOT NULL THEN 1 ELSE 0 END) as interviewed,\n",
    "        SUM(CASE WHEN offer_date IS NOT NULL THEN 1 ELSE 0 END) as offered,\n",
    "        SUM(CASE WHEN hire_date IS NOT NULL THEN 1 ELSE 0 END) as hired\n",
    "    FROM stages s\n",
    "    JOIN applications a ON s.candidate_id = a.candidate_id\n",
    ")\n",
    "SELECT \n",
    "    applied,\n",
    "    screened,\n",
    "    ROUND((screened * 100.0 / applied), 2) as application_to_screening_pct,\n",
    "    interviewed,\n",
    "    ROUND((interviewed * 100.0 / screened), 2) as screening_to_interview_pct,\n",
    "    offered,\n",
    "    ROUND((offered * 100.0 / interviewed), 2) as interview_to_offer_pct,\n",
    "    hired,\n",
    "    ROUND((hired * 100.0 / offered), 2) as offer_to_hire_pct\n",
    "FROM stage_counts;\n",
    "'''\n",
    "conversion_df = pd.read_sql_query(conversion_query, conn)\n",
    "conversion_df.to_csv('conversion_rates.csv', index=False)"
   ]
  },
  {
   "cell_type": "markdown",
   "id": "8cdbbef1-a091-43eb-98ca-8cb74d63e4cb",
   "metadata": {},
   "source": [
    "#### **Query 3: Average time-to-hire per role**"
   ]
  },
  {
   "cell_type": "code",
   "execution_count": null,
   "id": "14df2110-3b82-4d81-aa75-4e246ca4dd8b",
   "metadata": {},
   "outputs": [],
   "source": [
    "time_to_hire_query = '''\n",
    "SELECT \n",
    "    c.role_applied,\n",
    "    AVG(s.time_to_hire) as avg_time_to_hire,\n",
    "    COUNT(s.time_to_hire) as hired_count\n",
    "FROM stages s\n",
    "JOIN candidates c ON s.candidate_id = c.candidate_id\n",
    "WHERE s.final_status = 'Hired' AND s.time_to_hire >= 0\n",
    "GROUP BY c.role_applied\n",
    "ORDER BY avg_time_to_hire DESC;\n",
    "'''\n",
    "time_to_hire_df = pd.read_sql_query(time_to_hire_query, conn)\n",
    "time_to_hire_df.to_csv('time_to_hire_by_role.csv', index=False)"
   ]
  },
  {
   "cell_type": "markdown",
   "id": "e5e1f18b-7b59-424c-98a5-b9a73ae46e66",
   "metadata": {},
   "source": [
    "#### **Query 4: Source performance**"
   ]
  },
  {
   "cell_type": "code",
   "execution_count": null,
   "id": "2a0f7690-52a9-4253-aaff-c6d05c1d571d",
   "metadata": {},
   "outputs": [],
   "source": [
    "source_performance_query = '''\n",
    "WITH source_stats AS (\n",
    "    SELECT \n",
    "        a.source,\n",
    "        COUNT(*) as total_applications,\n",
    "        SUM(CASE WHEN s.final_status = 'Hired' THEN 1 ELSE 0 END) as hired_count,\n",
    "        ROW_NUMBER() OVER (ORDER BY SUM(CASE WHEN s.final_status = 'Hired' THEN 1 ELSE 0 END) DESC) as rank\n",
    "    FROM applications a\n",
    "    JOIN stages s ON a.candidate_id = s.candidate_id\n",
    "    GROUP BY a.source\n",
    ")\n",
    "SELECT \n",
    "    source,\n",
    "    total_applications,\n",
    "    hired_count,\n",
    "    ROUND((hired_count * 100.0 / total_applications), 2) as hire_rate,\n",
    "    rank\n",
    "FROM source_stats\n",
    "ORDER BY hired_count DESC;\n",
    "'''\n",
    "source_performance_df = pd.read_sql_query(source_performance_query, conn)\n",
    "source_performance_df.to_csv('source_performance.csv', index=False)"
   ]
  },
  {
   "cell_type": "markdown",
   "id": "33b5578d-b08b-48de-84ce-d55ef216df9c",
   "metadata": {},
   "source": [
    "--\n",
    "\n",
    "### **24. Close the connection**"
   ]
  },
  {
   "cell_type": "code",
   "execution_count": null,
   "id": "620689de-1d27-4930-b227-914617cfbe89",
   "metadata": {},
   "outputs": [],
   "source": [
    "conn.commit()\n",
    "conn.close()\n",
    "\n",
    "print(\"Database schema created and data stored in 'hiring_database.db'.\")\n",
    "print(\"Aggregations completed and saved as CSV files: 'drop_off_summary.csv', 'conversion_rates.csv', 'time_to_hire_by_role.csv', 'source_performance.csv'.\")"
   ]
  },
  {
   "cell_type": "markdown",
   "id": "b7ad1213-7e6c-42c9-9f8f-c0f5da76867c",
   "metadata": {},
   "source": [
    "-\n",
    "\n",
    "### **25. Preview a CSV**"
   ]
  },
  {
   "cell_type": "code",
   "execution_count": null,
   "id": "5281eee1-3797-4184-aa1f-efe2f8d8d867",
   "metadata": {},
   "outputs": [],
   "source": [
    "pd.read_csv('drop_off_summary.csv')"
   ]
  },
  {
   "cell_type": "markdown",
   "id": "ff594526-4ee8-4f3e-a229-9adc4bf9276f",
   "metadata": {},
   "source": [
    "---\n",
    "\n",
    "### **26. Display a plot**"
   ]
  },
  {
   "cell_type": "code",
   "execution_count": null,
   "id": "b0caaa8f-4461-4dd2-9e55-cd1c5440bc2a",
   "metadata": {},
   "outputs": [],
   "source": [
    "from IPython.display import Image\n",
    "Image('drop_off_heatmap.png')"
   ]
  },
  {
   "cell_type": "markdown",
   "id": "68ba45ae-d63a-466e-a726-0046fa38e36f",
   "metadata": {},
   "source": [
    "----"
   ]
  },
  {
   "cell_type": "code",
   "execution_count": null,
   "id": "75012e18-0658-409c-b383-8c45db18f57c",
   "metadata": {},
   "outputs": [],
   "source": [
    "import sqlite3\n",
    "conn = sqlite3.connect('hiring_database.db')\n",
    "query = 'SELECT * FROM candidates LIMIT 7'\n",
    "df_sample = pd.read_sql_query(query, conn)\n",
    "print(df_sample)"
   ]
  },
  {
   "cell_type": "markdown",
   "id": "d1fa8fcc-082f-4432-ba79-8c4f6c8407cc",
   "metadata": {},
   "source": [
    "----\n",
    "### **27. Install dependencies and Libraries (if not already installed)**"
   ]
  },
  {
   "cell_type": "code",
   "execution_count": null,
   "id": "5e4abc83-44a5-4119-aef7-4a0c6e40f213",
   "metadata": {},
   "outputs": [],
   "source": [
    "!pip install pandas numpy faker seaborn matplotlib sqlite3\n",
    "import pandas as pd\n",
    "import sqlite3\n",
    "import seaborn as sns\n",
    "import matplotlib.pyplot as plt\n",
    "%matplotlib inline"
   ]
  },
  {
   "cell_type": "markdown",
   "id": "9a5f9548-b166-462a-a02c-d4f68e0d5d4c",
   "metadata": {},
   "source": [
    "---\n",
    "\n",
    "### **28. Load the cleaned dataset**"
   ]
  },
  {
   "cell_type": "code",
   "execution_count": null,
   "id": "7f791fd3-7124-477f-a532-c52b85de5926",
   "metadata": {},
   "outputs": [],
   "source": [
    "df = pd.read_csv('cleaned_hiring_dataset.csv')\n",
    "print(\"Columns in cleaned_hiring_dataset.csv:\")\n",
    "print(df.columns.tolist())\n",
    "print(\"\\nFirst 7 rows:\")\n",
    "df.head(7)"
   ]
  },
  {
   "cell_type": "markdown",
   "id": "020081e4-cd6e-4ff0-b70d-b69a078af5a6",
   "metadata": {},
   "source": [
    "---\n",
    "### **29. Connect to SQLite database and verify tables**"
   ]
  },
  {
   "cell_type": "code",
   "execution_count": null,
   "id": "e1512091-0903-491a-8398-387207ee71c3",
   "metadata": {},
   "outputs": [],
   "source": [
    "conn = sqlite3.connect('hiring_database.db')\n",
    "cursor = conn.cursor()\n",
    "cursor.execute(\"SELECT name FROM sqlite_master WHERE type='table';\")\n",
    "tables = cursor.fetchall()\n",
    "print(\"Tables in database:\", tables)\n",
    "\n",
    "# List columns in each table\n",
    "for table in tables:\n",
    "    table_name = table[0]\n",
    "    print(f\"\\nColumns in {table_name}:\")\n",
    "    cursor.execute(f\"PRAGMA table_info({table_name});\")\n",
    "    columns = [info[1] for info in cursor.fetchall()]\n",
    "    print(columns)"
   ]
  },
  {
   "cell_type": "markdown",
   "id": "eddcca31-a554-4532-88bd-36ab43f1460e",
   "metadata": {},
   "source": [
    "----\n",
    "\n",
    "### **30. Query all columns from all tables**"
   ]
  },
  {
   "cell_type": "code",
   "execution_count": null,
   "id": "500e7c9d-4ce2-4eb3-ab9b-ffb4794cbeca",
   "metadata": {},
   "outputs": [],
   "source": [
    "query = '''\n",
    "SELECT c.candidate_id, c.role_applied, c.department, a.source, a.application_date,\n",
    "       s.screening_date, s.interview_date, s.offer_date, s.hire_date,\n",
    "       s.final_status, s.missing_offer_flag, s.time_to_hire, s.stage_drop\n",
    "FROM candidates c\n",
    "LEFT JOIN applications a ON c.candidate_id = a.candidate_id\n",
    "LEFT JOIN stages s ON c.candidate_id = s.candidate_id\n",
    "'''\n",
    "db_df = pd.read_sql_query(query, conn)\n",
    "print(\"\\nColumns in joined query:\")\n",
    "print(db_df.columns.tolist())\n",
    "print(\"\\nFirst 7 rows from database:\")\n",
    "db_df.head(7)"
   ]
  },
  {
   "cell_type": "markdown",
   "id": "982275e4-008a-431f-a78c-de3c97e00486",
   "metadata": {},
   "source": [
    "#### **Drop-off counts**"
   ]
  },
  {
   "cell_type": "code",
   "execution_count": null,
   "id": "72e1a9e4-342b-4591-885d-ba67535f4509",
   "metadata": {},
   "outputs": [],
   "source": [
    "import seaborn as sns\n",
    "import matplotlib.pyplot as plt\n",
    "\n",
    "plt.figure(figsize=(6, 4))\n",
    "sns.countplot(data=df, x='Stage_Drop', order=df['Stage_Drop'].value_counts().index)\n",
    "plt.title('Candidate Drop-Off by Stage')\n",
    "plt.xlabel('Stage')\n",
    "plt.ylabel('Number of Candidates')\n",
    "plt.xticks(rotation=45)\n",
    "plt.show()"
   ]
  },
  {
   "cell_type": "markdown",
   "id": "48878e76-cd23-42e6-8416-40e5605c9d4b",
   "metadata": {},
   "source": [
    "#### **Applicants by source**"
   ]
  },
  {
   "cell_type": "code",
   "execution_count": null,
   "id": "554f5d51-da49-4702-897b-90952f62deea",
   "metadata": {},
   "outputs": [],
   "source": [
    "import seaborn as sns\n",
    "import matplotlib.pyplot as plt\n",
    "\n",
    "plt.figure(figsize=(6, 4))\n",
    "sns.countplot(data=df, x='Source', order=df['Source'].value_counts().index)\n",
    "plt.title('Number of Applicants by Source')\n",
    "plt.xlabel('Source')\n",
    "plt.ylabel('Number of Applicants')\n",
    "plt.xticks(rotation=45)\n",
    "plt.show()"
   ]
  },
  {
   "cell_type": "markdown",
   "id": "72abd3c7-eb26-44b8-816b-c5023b8a7bfe",
   "metadata": {},
   "source": [
    "----\n",
    "\n",
    "### **31. Save the full dataset for Power BI**"
   ]
  },
  {
   "cell_type": "code",
   "execution_count": null,
   "id": "dd3b500e-3eed-4fa0-aec1-ac93ff417c3f",
   "metadata": {},
   "outputs": [],
   "source": [
    "df.to_csv('full_dataset.csv', index=False)\n",
    "print(\"Full dataset saved as 'full_dataset.csv'\")"
   ]
  },
  {
   "cell_type": "markdown",
   "id": "53e03902-5cda-47d2-85b2-0ead696706c7",
   "metadata": {},
   "source": [
    "---------------"
   ]
  },
  {
   "cell_type": "code",
   "execution_count": null,
   "id": "f6c02d9c-be87-4851-9df5-a0fa8daff31e",
   "metadata": {},
   "outputs": [],
   "source": []
  },
  {
   "cell_type": "code",
   "execution_count": null,
   "id": "ab820c61-9cc9-4d90-94a7-2a3836e3f367",
   "metadata": {},
   "outputs": [],
   "source": []
  },
  {
   "cell_type": "code",
   "execution_count": null,
   "id": "ca83694e-fb61-4006-ab1e-dda348077634",
   "metadata": {},
   "outputs": [],
   "source": []
  },
  {
   "cell_type": "code",
   "execution_count": null,
   "id": "4f1b90b5-cb67-441e-9ea8-f71a1d377582",
   "metadata": {},
   "outputs": [],
   "source": []
  },
  {
   "cell_type": "code",
   "execution_count": null,
   "id": "73636837-9df2-4ac5-bf71-1b788fb3fd8e",
   "metadata": {},
   "outputs": [],
   "source": []
  },
  {
   "cell_type": "code",
   "execution_count": null,
   "id": "54a96343-89c9-4f6f-b850-b287b83524a9",
   "metadata": {},
   "outputs": [],
   "source": []
  },
  {
   "cell_type": "code",
   "execution_count": null,
   "id": "dd201b18-7a57-43c5-911c-723396364ff0",
   "metadata": {},
   "outputs": [],
   "source": []
  },
  {
   "cell_type": "code",
   "execution_count": null,
   "id": "0f67b1eb-2d25-451f-bf44-a73a379e9986",
   "metadata": {},
   "outputs": [],
   "source": []
  },
  {
   "cell_type": "code",
   "execution_count": null,
   "id": "6c3eebd5-24a5-40f5-b8a1-0ad52858f159",
   "metadata": {},
   "outputs": [],
   "source": []
  },
  {
   "cell_type": "code",
   "execution_count": null,
   "id": "e4a3c7dd-f550-4b50-8def-a470ac5a082f",
   "metadata": {},
   "outputs": [],
   "source": []
  },
  {
   "cell_type": "code",
   "execution_count": null,
   "id": "96d6c35c-b981-4488-9e07-09f3c33c2c9e",
   "metadata": {},
   "outputs": [],
   "source": []
  },
  {
   "cell_type": "code",
   "execution_count": null,
   "id": "da1026c1-daf4-4304-8987-8c5c3c32898a",
   "metadata": {},
   "outputs": [],
   "source": []
  },
  {
   "cell_type": "code",
   "execution_count": null,
   "id": "3cc459c0-800f-4818-862c-14780e8ecc06",
   "metadata": {},
   "outputs": [],
   "source": []
  },
  {
   "cell_type": "code",
   "execution_count": null,
   "id": "74f38c1c-9df7-4fde-b257-863fcec044aa",
   "metadata": {},
   "outputs": [],
   "source": []
  }
 ],
 "metadata": {
  "kernelspec": {
   "display_name": "Python 3 (ipykernel)",
   "language": "python",
   "name": "python3"
  },
  "language_info": {
   "codemirror_mode": {
    "name": "ipython",
    "version": 3
   },
   "file_extension": ".py",
   "mimetype": "text/x-python",
   "name": "python",
   "nbconvert_exporter": "python",
   "pygments_lexer": "ipython3",
   "version": "3.11.7"
  },
  "widgets": {
   "application/vnd.jupyter.widget-state+json": {
    "state": {},
    "version_major": 2,
    "version_minor": 0
   }
  }
 },
 "nbformat": 4,
 "nbformat_minor": 5
}
